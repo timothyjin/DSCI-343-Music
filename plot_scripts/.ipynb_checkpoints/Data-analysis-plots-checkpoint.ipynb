{
 "cells": [
  {
   "cell_type": "code",
   "execution_count": 25,
   "metadata": {},
   "outputs": [],
   "source": [
    "import pandas as pd\n",
    "import scipy\n",
    "import nltk\n",
    "import numpy as np\n",
    "import matplotlib.pyplot as plt"
   ]
  },
  {
   "cell_type": "code",
   "execution_count": 63,
   "metadata": {},
   "outputs": [
    {
     "data": {
      "image/png": "[encoded data removed]",
      "text/plain": [
       "<Figure size 432x288 with 1 Axes>"
      ]
     },
     "metadata": {
      "needs_background": "light"
     },
     "output_type": "display_data"
    }
   ],
   "source": [
    "data = pd.read_csv('../samples/pop_sample_lyrics.csv')\n",
    "# plt.scatter(data['Count'], data['Diversity'])\n",
    "plt.hist(data['Count'])\n",
    "# plt.xlim((0, 300))\n",
    "plt.xlabel('Listens')\n",
    "plt.ylabel('Count')\n",
    "plt.show()"
   ]
  },
  {
   "cell_type": "code",
   "execution_count": 64,
   "metadata": {},
   "outputs": [],
   "source": [
    "# filtering stop words\n",
    "import re\n",
    "from nltk.corpus import stopwords\n",
    "stopwords_eng = stopwords.words('english')\n",
    "\n",
    "data['Lyrics'] = data['Lyrics'].apply(lambda x : x.lower())\n",
    "data['Lyrics'] = data['Lyrics'].apply(lambda x : re.sub(r'\\d+','', x))\n",
    "data['Lyrics'] = data['Lyrics'].apply(lambda x : ' '.join([word for word in re.split(r'[\\W_]' ,x) if word not in stopwords_eng]))\n",
    "data['Lyrics'] = data['Lyrics'].apply(lambda x : re.sub(r\"i'm\",'', x))\n",
    "data['Lyrics'] = data['Lyrics'].apply(lambda x : re.sub(r\"you\",'', x))\n",
    "data['Lyrics'] = data['Lyrics'].apply(lambda x : re.sub(r\"yeah\",'', x))\n",
    "data['Lyrics'] = data['Lyrics'].apply(lambda x : re.sub(r\"oh\",'', x))\n"
   ]
  },
  {
   "cell_type": "code",
   "execution_count": 65,
   "metadata": {
    "scrolled": true
   },
   "outputs": [
    {
     "data": {
      "text/plain": [
       "<matplotlib.axes._subplots.AxesSubplot at 0x129230080>"
      ]
     },
     "execution_count": 65,
     "metadata": {},
     "output_type": "execute_result"
    },
    {
     "data": {
      "image/png": "[encoded data removed]",
      "text/plain": [
       "<Figure size 432x288 with 1 Axes>"
      ]
     },
     "metadata": {
      "needs_background": "light"
     },
     "output_type": "display_data"
    }
   ],
   "source": [
    "romantic_words = set([\n",
    "    'love', 'lover', 'baby','luv', 'beautiful', 'cute', 'loving', 'gorgeous', 'fine', 'darling'\n",
    "])\n",
    "\n",
    "data['Romantic words'] = data['Lyrics'].apply(lambda x : len([word for word in re.split(r'[\\W_]' ,x) if word in romantic_words]))\n",
    "# plt.scatter(data['Count'], data['Romantic words'])\n",
    "\n",
    "data['Love existence'] = data['Lyrics'].apply(lambda x : len([word for word in re.split(r'[\\W_]' ,x) if word in romantic_words]) > 0)\n",
    "\n",
    "# plt.scatter(data['Count'], data['Romantic words'], c=data['Love existence'])\n",
    "\n",
    "data.sort_values(by='Count')\n",
    "\n",
    "bins = [0, 5, 10, 20, 40]\n",
    "labels = ['Cat{}'.format(x) for x in bins[1::]]\n",
    "data['Romance category'] = pd.cut(data['Romantic words'], bins=bins, labels=labels)\n",
    "data.head()  \n",
    "data[data['Romantic words'] > 10]['Romantic words'].plot(kind='hist')\n",
    "\n"
   ]
  },
  {
   "cell_type": "code",
   "execution_count": 67,
   "metadata": {},
   "outputs": [
    {
     "data": {
      "image/png": "[encoded data removed]",
      "text/plain": [
       "<Figure size 432x288 with 1 Axes>"
      ]
     },
     "metadata": {
      "needs_background": "light"
     },
     "output_type": "display_data"
    }
   ],
   "source": [
    "# Finding diversity score of lyrics with correlation of popularity\n",
    "def lexical_diversity(my_text_data):\n",
    "    word_count = len(my_text_data)\n",
    "    vocab_size = len(set(my_text_data))\n",
    "    diversity_score = word_count / vocab_size\n",
    "    return diversity_score\n",
    "\n",
    "data['Diversity'] = data['Lyrics'].apply(lambda x : lexical_diversity(x))\n",
    "\n",
    "# plt.scatter(data['Count'], data['Diversity'])\n",
    "plt.hist(data['Diversity'], bins=250)\n",
    "# plt.xlim((0, 300))\n",
    "plt.xlabel('Word diversity')\n",
    "plt.ylabel('Count')\n",
    "plt.show()"
   ]
  }
 ],
 "metadata": {
  "kernelspec": {
   "display_name": "Python 3",
   "language": "python",
   "name": "python3"
  },
  "language_info": {
   "codemirror_mode": {
    "name": "ipython",
    "version": 3
   },
   "file_extension": ".py",
   "mimetype": "text/x-python",
   "name": "python",
   "nbconvert_exporter": "python",
   "pygments_lexer": "ipython3",
   "version": "3.6.5"
  }
 },
 "nbformat": 4,
 "nbformat_minor": 2
}
